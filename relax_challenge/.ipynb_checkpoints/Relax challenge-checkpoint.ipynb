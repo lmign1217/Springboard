{
 "cells": [
  {
   "cell_type": "code",
   "execution_count": 1,
   "metadata": {},
   "outputs": [],
   "source": [
    "import pandas as pd\n",
    "import matplotlib.pyplot as plt\n",
    "import seaborn as sns\n",
    "import numpy as np\n",
    "plt.style.use('ggplot')"
   ]
  },
  {
   "cell_type": "code",
   "execution_count": 2,
   "metadata": {},
   "outputs": [],
   "source": [
    "# load the data file\n",
    "users = pd.read_csv('takehome_users.csv', encoding = 'ISO-8859-1')\n",
    "engagement = pd.read_csv('takehome_user_engagement.csv')"
   ]
  },
  {
   "cell_type": "code",
   "execution_count": 3,
   "metadata": {},
   "outputs": [
    {
     "data": {
      "text/html": [
       "<div>\n",
       "<style scoped>\n",
       "    .dataframe tbody tr th:only-of-type {\n",
       "        vertical-align: middle;\n",
       "    }\n",
       "\n",
       "    .dataframe tbody tr th {\n",
       "        vertical-align: top;\n",
       "    }\n",
       "\n",
       "    .dataframe thead th {\n",
       "        text-align: right;\n",
       "    }\n",
       "</style>\n",
       "<table border=\"1\" class=\"dataframe\">\n",
       "  <thead>\n",
       "    <tr style=\"text-align: right;\">\n",
       "      <th></th>\n",
       "      <th>0</th>\n",
       "      <th>1</th>\n",
       "      <th>2</th>\n",
       "      <th>3</th>\n",
       "      <th>4</th>\n",
       "    </tr>\n",
       "  </thead>\n",
       "  <tbody>\n",
       "    <tr>\n",
       "      <th>object_id</th>\n",
       "      <td>1</td>\n",
       "      <td>2</td>\n",
       "      <td>3</td>\n",
       "      <td>4</td>\n",
       "      <td>5</td>\n",
       "    </tr>\n",
       "    <tr>\n",
       "      <th>creation_time</th>\n",
       "      <td>2014-04-22 03:53:30</td>\n",
       "      <td>2013-11-15 03:45:04</td>\n",
       "      <td>2013-03-19 23:14:52</td>\n",
       "      <td>2013-05-21 08:09:28</td>\n",
       "      <td>2013-01-17 10:14:20</td>\n",
       "    </tr>\n",
       "    <tr>\n",
       "      <th>name</th>\n",
       "      <td>Clausen August</td>\n",
       "      <td>Poole Matthew</td>\n",
       "      <td>Bottrill Mitchell</td>\n",
       "      <td>Clausen Nicklas</td>\n",
       "      <td>Raw Grace</td>\n",
       "    </tr>\n",
       "    <tr>\n",
       "      <th>email</th>\n",
       "      <td>AugustCClausen@yahoo.com</td>\n",
       "      <td>MatthewPoole@gustr.com</td>\n",
       "      <td>MitchellBottrill@gustr.com</td>\n",
       "      <td>NicklasSClausen@yahoo.com</td>\n",
       "      <td>GraceRaw@yahoo.com</td>\n",
       "    </tr>\n",
       "    <tr>\n",
       "      <th>creation_source</th>\n",
       "      <td>GUEST_INVITE</td>\n",
       "      <td>ORG_INVITE</td>\n",
       "      <td>ORG_INVITE</td>\n",
       "      <td>GUEST_INVITE</td>\n",
       "      <td>GUEST_INVITE</td>\n",
       "    </tr>\n",
       "    <tr>\n",
       "      <th>last_session_creation_time</th>\n",
       "      <td>1.39814e+09</td>\n",
       "      <td>1.39624e+09</td>\n",
       "      <td>1.36373e+09</td>\n",
       "      <td>1.36921e+09</td>\n",
       "      <td>1.35885e+09</td>\n",
       "    </tr>\n",
       "    <tr>\n",
       "      <th>opted_in_to_mailing_list</th>\n",
       "      <td>1</td>\n",
       "      <td>0</td>\n",
       "      <td>0</td>\n",
       "      <td>0</td>\n",
       "      <td>0</td>\n",
       "    </tr>\n",
       "    <tr>\n",
       "      <th>enabled_for_marketing_drip</th>\n",
       "      <td>0</td>\n",
       "      <td>0</td>\n",
       "      <td>0</td>\n",
       "      <td>0</td>\n",
       "      <td>0</td>\n",
       "    </tr>\n",
       "    <tr>\n",
       "      <th>org_id</th>\n",
       "      <td>11</td>\n",
       "      <td>1</td>\n",
       "      <td>94</td>\n",
       "      <td>1</td>\n",
       "      <td>193</td>\n",
       "    </tr>\n",
       "    <tr>\n",
       "      <th>invited_by_user_id</th>\n",
       "      <td>10803</td>\n",
       "      <td>316</td>\n",
       "      <td>1525</td>\n",
       "      <td>5151</td>\n",
       "      <td>5240</td>\n",
       "    </tr>\n",
       "  </tbody>\n",
       "</table>\n",
       "</div>"
      ],
      "text/plain": [
       "                                                   0                       1  \\\n",
       "object_id                                          1                       2   \n",
       "creation_time                    2014-04-22 03:53:30     2013-11-15 03:45:04   \n",
       "name                                  Clausen August           Poole Matthew   \n",
       "email                       AugustCClausen@yahoo.com  MatthewPoole@gustr.com   \n",
       "creation_source                         GUEST_INVITE              ORG_INVITE   \n",
       "last_session_creation_time               1.39814e+09             1.39624e+09   \n",
       "opted_in_to_mailing_list                           1                       0   \n",
       "enabled_for_marketing_drip                         0                       0   \n",
       "org_id                                            11                       1   \n",
       "invited_by_user_id                             10803                     316   \n",
       "\n",
       "                                                     2  \\\n",
       "object_id                                            3   \n",
       "creation_time                      2013-03-19 23:14:52   \n",
       "name                                 Bottrill Mitchell   \n",
       "email                       MitchellBottrill@gustr.com   \n",
       "creation_source                             ORG_INVITE   \n",
       "last_session_creation_time                 1.36373e+09   \n",
       "opted_in_to_mailing_list                             0   \n",
       "enabled_for_marketing_drip                           0   \n",
       "org_id                                              94   \n",
       "invited_by_user_id                                1525   \n",
       "\n",
       "                                                    3                    4  \n",
       "object_id                                           4                    5  \n",
       "creation_time                     2013-05-21 08:09:28  2013-01-17 10:14:20  \n",
       "name                                  Clausen Nicklas            Raw Grace  \n",
       "email                       NicklasSClausen@yahoo.com   GraceRaw@yahoo.com  \n",
       "creation_source                          GUEST_INVITE         GUEST_INVITE  \n",
       "last_session_creation_time                1.36921e+09          1.35885e+09  \n",
       "opted_in_to_mailing_list                            0                    0  \n",
       "enabled_for_marketing_drip                          0                    0  \n",
       "org_id                                              1                  193  \n",
       "invited_by_user_id                               5151                 5240  "
      ]
     },
     "execution_count": 3,
     "metadata": {},
     "output_type": "execute_result"
    }
   ],
   "source": [
    "# quickly check the dataset\n",
    "users.head().T"
   ]
  },
  {
   "cell_type": "code",
   "execution_count": 4,
   "metadata": {},
   "outputs": [
    {
     "data": {
      "text/html": [
       "<div>\n",
       "<style scoped>\n",
       "    .dataframe tbody tr th:only-of-type {\n",
       "        vertical-align: middle;\n",
       "    }\n",
       "\n",
       "    .dataframe tbody tr th {\n",
       "        vertical-align: top;\n",
       "    }\n",
       "\n",
       "    .dataframe thead th {\n",
       "        text-align: right;\n",
       "    }\n",
       "</style>\n",
       "<table border=\"1\" class=\"dataframe\">\n",
       "  <thead>\n",
       "    <tr style=\"text-align: right;\">\n",
       "      <th></th>\n",
       "      <th>time_stamp</th>\n",
       "      <th>user_id</th>\n",
       "      <th>visited</th>\n",
       "    </tr>\n",
       "  </thead>\n",
       "  <tbody>\n",
       "    <tr>\n",
       "      <th>0</th>\n",
       "      <td>2014-04-22 03:53:30</td>\n",
       "      <td>1</td>\n",
       "      <td>1</td>\n",
       "    </tr>\n",
       "    <tr>\n",
       "      <th>1</th>\n",
       "      <td>2013-11-15 03:45:04</td>\n",
       "      <td>2</td>\n",
       "      <td>1</td>\n",
       "    </tr>\n",
       "    <tr>\n",
       "      <th>2</th>\n",
       "      <td>2013-11-29 03:45:04</td>\n",
       "      <td>2</td>\n",
       "      <td>1</td>\n",
       "    </tr>\n",
       "    <tr>\n",
       "      <th>3</th>\n",
       "      <td>2013-12-09 03:45:04</td>\n",
       "      <td>2</td>\n",
       "      <td>1</td>\n",
       "    </tr>\n",
       "    <tr>\n",
       "      <th>4</th>\n",
       "      <td>2013-12-25 03:45:04</td>\n",
       "      <td>2</td>\n",
       "      <td>1</td>\n",
       "    </tr>\n",
       "  </tbody>\n",
       "</table>\n",
       "</div>"
      ],
      "text/plain": [
       "            time_stamp  user_id  visited\n",
       "0  2014-04-22 03:53:30        1        1\n",
       "1  2013-11-15 03:45:04        2        1\n",
       "2  2013-11-29 03:45:04        2        1\n",
       "3  2013-12-09 03:45:04        2        1\n",
       "4  2013-12-25 03:45:04        2        1"
      ]
     },
     "execution_count": 4,
     "metadata": {},
     "output_type": "execute_result"
    }
   ],
   "source": [
    "# quickly check the dataset\n",
    "engagement.head()"
   ]
  },
  {
   "cell_type": "code",
   "execution_count": 5,
   "metadata": {},
   "outputs": [
    {
     "name": "stdout",
     "output_type": "stream",
     "text": [
      "<class 'pandas.core.frame.DataFrame'>\n",
      "RangeIndex: 12000 entries, 0 to 11999\n",
      "Data columns (total 10 columns):\n",
      " #   Column                      Non-Null Count  Dtype  \n",
      "---  ------                      --------------  -----  \n",
      " 0   object_id                   12000 non-null  int64  \n",
      " 1   creation_time               12000 non-null  object \n",
      " 2   name                        12000 non-null  object \n",
      " 3   email                       12000 non-null  object \n",
      " 4   creation_source             12000 non-null  object \n",
      " 5   last_session_creation_time  8823 non-null   float64\n",
      " 6   opted_in_to_mailing_list    12000 non-null  int64  \n",
      " 7   enabled_for_marketing_drip  12000 non-null  int64  \n",
      " 8   org_id                      12000 non-null  int64  \n",
      " 9   invited_by_user_id          6417 non-null   float64\n",
      "dtypes: float64(2), int64(4), object(4)\n",
      "memory usage: 937.6+ KB\n"
     ]
    }
   ],
   "source": [
    "users.info()"
   ]
  },
  {
   "cell_type": "code",
   "execution_count": 6,
   "metadata": {},
   "outputs": [
    {
     "name": "stdout",
     "output_type": "stream",
     "text": [
      "<class 'pandas.core.frame.DataFrame'>\n",
      "RangeIndex: 207917 entries, 0 to 207916\n",
      "Data columns (total 3 columns):\n",
      " #   Column      Non-Null Count   Dtype \n",
      "---  ------      --------------   ----- \n",
      " 0   time_stamp  207917 non-null  object\n",
      " 1   user_id     207917 non-null  int64 \n",
      " 2   visited     207917 non-null  int64 \n",
      "dtypes: int64(2), object(1)\n",
      "memory usage: 4.8+ MB\n"
     ]
    }
   ],
   "source": [
    "engagement.info()"
   ]
  },
  {
   "cell_type": "markdown",
   "metadata": {},
   "source": [
    "The visited column in the engagement dataset doesn't give us too much information, let's drop it"
   ]
  },
  {
   "cell_type": "code",
   "execution_count": 7,
   "metadata": {},
   "outputs": [],
   "source": [
    "# drop visited\n",
    "engagement = engagement.drop('visited', axis = 1)"
   ]
  },
  {
   "cell_type": "markdown",
   "metadata": {},
   "source": [
    "Convert the time_stamp to datetime object"
   ]
  },
  {
   "cell_type": "code",
   "execution_count": 8,
   "metadata": {},
   "outputs": [],
   "source": [
    "engagement.time_stamp = pd.to_datetime(engagement.time_stamp)"
   ]
  },
  {
   "cell_type": "code",
   "execution_count": 9,
   "metadata": {},
   "outputs": [
    {
     "name": "stdout",
     "output_type": "stream",
     "text": [
      "There are 1656 adopted users\n"
     ]
    }
   ],
   "source": [
    "# convert the frequency of the time_stamp to daily frequency\n",
    "engagement.time_stamp = engagement.time_stamp.dt.floor('D')\n",
    "\n",
    "# drop duplicated time_stamp for each user\n",
    "engagement = engagement.sort_values(['user_id','time_stamp']).drop_duplicates()\n",
    "\n",
    "# get the adopted users who has logged into the product on three seprate days in at least one seven-day period\n",
    "day_passed = pd.concat([engagement.groupby('user_id')['time_stamp'].diff(periods = 2).dt.days,engagement.user_id],axis = 1)\n",
    "\n",
    "# as long as three consecutive log-in is within 7 days we say that user is an adopted user \n",
    "adopted_usr = day_passed[day_passed.time_stamp <= 7].user_id.unique()\n",
    "num_adopted_usr = day_passed[day_passed.time_stamp <= 7].user_id.nunique()\n",
    "print('There are {} adopted users'.format(num_adopted_usr))"
   ]
  },
  {
   "cell_type": "markdown",
   "metadata": {},
   "source": [
    "We can now convert the object_id in the users data set based on the adopted_usr list we got previously to show if the user is an adopted user or not, and this will also be our target value to predict"
   ]
  },
  {
   "cell_type": "code",
   "execution_count": 10,
   "metadata": {},
   "outputs": [
    {
     "data": {
      "text/html": [
       "<div>\n",
       "<style scoped>\n",
       "    .dataframe tbody tr th:only-of-type {\n",
       "        vertical-align: middle;\n",
       "    }\n",
       "\n",
       "    .dataframe tbody tr th {\n",
       "        vertical-align: top;\n",
       "    }\n",
       "\n",
       "    .dataframe thead th {\n",
       "        text-align: right;\n",
       "    }\n",
       "</style>\n",
       "<table border=\"1\" class=\"dataframe\">\n",
       "  <thead>\n",
       "    <tr style=\"text-align: right;\">\n",
       "      <th></th>\n",
       "      <th>0</th>\n",
       "      <th>1</th>\n",
       "      <th>2</th>\n",
       "      <th>3</th>\n",
       "      <th>4</th>\n",
       "    </tr>\n",
       "  </thead>\n",
       "  <tbody>\n",
       "    <tr>\n",
       "      <th>adopted_user</th>\n",
       "      <td>0</td>\n",
       "      <td>1</td>\n",
       "      <td>0</td>\n",
       "      <td>0</td>\n",
       "      <td>0</td>\n",
       "    </tr>\n",
       "    <tr>\n",
       "      <th>creation_time</th>\n",
       "      <td>2014-04-22 03:53:30</td>\n",
       "      <td>2013-11-15 03:45:04</td>\n",
       "      <td>2013-03-19 23:14:52</td>\n",
       "      <td>2013-05-21 08:09:28</td>\n",
       "      <td>2013-01-17 10:14:20</td>\n",
       "    </tr>\n",
       "    <tr>\n",
       "      <th>name</th>\n",
       "      <td>Clausen August</td>\n",
       "      <td>Poole Matthew</td>\n",
       "      <td>Bottrill Mitchell</td>\n",
       "      <td>Clausen Nicklas</td>\n",
       "      <td>Raw Grace</td>\n",
       "    </tr>\n",
       "    <tr>\n",
       "      <th>email</th>\n",
       "      <td>AugustCClausen@yahoo.com</td>\n",
       "      <td>MatthewPoole@gustr.com</td>\n",
       "      <td>MitchellBottrill@gustr.com</td>\n",
       "      <td>NicklasSClausen@yahoo.com</td>\n",
       "      <td>GraceRaw@yahoo.com</td>\n",
       "    </tr>\n",
       "    <tr>\n",
       "      <th>creation_source</th>\n",
       "      <td>GUEST_INVITE</td>\n",
       "      <td>ORG_INVITE</td>\n",
       "      <td>ORG_INVITE</td>\n",
       "      <td>GUEST_INVITE</td>\n",
       "      <td>GUEST_INVITE</td>\n",
       "    </tr>\n",
       "    <tr>\n",
       "      <th>last_session_creation_time</th>\n",
       "      <td>1.39814e+09</td>\n",
       "      <td>1.39624e+09</td>\n",
       "      <td>1.36373e+09</td>\n",
       "      <td>1.36921e+09</td>\n",
       "      <td>1.35885e+09</td>\n",
       "    </tr>\n",
       "    <tr>\n",
       "      <th>opted_in_to_mailing_list</th>\n",
       "      <td>1</td>\n",
       "      <td>0</td>\n",
       "      <td>0</td>\n",
       "      <td>0</td>\n",
       "      <td>0</td>\n",
       "    </tr>\n",
       "    <tr>\n",
       "      <th>enabled_for_marketing_drip</th>\n",
       "      <td>0</td>\n",
       "      <td>0</td>\n",
       "      <td>0</td>\n",
       "      <td>0</td>\n",
       "      <td>0</td>\n",
       "    </tr>\n",
       "    <tr>\n",
       "      <th>org_id</th>\n",
       "      <td>11</td>\n",
       "      <td>1</td>\n",
       "      <td>94</td>\n",
       "      <td>1</td>\n",
       "      <td>193</td>\n",
       "    </tr>\n",
       "    <tr>\n",
       "      <th>invited_by_user_id</th>\n",
       "      <td>10803</td>\n",
       "      <td>316</td>\n",
       "      <td>1525</td>\n",
       "      <td>5151</td>\n",
       "      <td>5240</td>\n",
       "    </tr>\n",
       "  </tbody>\n",
       "</table>\n",
       "</div>"
      ],
      "text/plain": [
       "                                                   0                       1  \\\n",
       "adopted_user                                       0                       1   \n",
       "creation_time                    2014-04-22 03:53:30     2013-11-15 03:45:04   \n",
       "name                                  Clausen August           Poole Matthew   \n",
       "email                       AugustCClausen@yahoo.com  MatthewPoole@gustr.com   \n",
       "creation_source                         GUEST_INVITE              ORG_INVITE   \n",
       "last_session_creation_time               1.39814e+09             1.39624e+09   \n",
       "opted_in_to_mailing_list                           1                       0   \n",
       "enabled_for_marketing_drip                         0                       0   \n",
       "org_id                                            11                       1   \n",
       "invited_by_user_id                             10803                     316   \n",
       "\n",
       "                                                     2  \\\n",
       "adopted_user                                         0   \n",
       "creation_time                      2013-03-19 23:14:52   \n",
       "name                                 Bottrill Mitchell   \n",
       "email                       MitchellBottrill@gustr.com   \n",
       "creation_source                             ORG_INVITE   \n",
       "last_session_creation_time                 1.36373e+09   \n",
       "opted_in_to_mailing_list                             0   \n",
       "enabled_for_marketing_drip                           0   \n",
       "org_id                                              94   \n",
       "invited_by_user_id                                1525   \n",
       "\n",
       "                                                    3                    4  \n",
       "adopted_user                                        0                    0  \n",
       "creation_time                     2013-05-21 08:09:28  2013-01-17 10:14:20  \n",
       "name                                  Clausen Nicklas            Raw Grace  \n",
       "email                       NicklasSClausen@yahoo.com   GraceRaw@yahoo.com  \n",
       "creation_source                          GUEST_INVITE         GUEST_INVITE  \n",
       "last_session_creation_time                1.36921e+09          1.35885e+09  \n",
       "opted_in_to_mailing_list                            0                    0  \n",
       "enabled_for_marketing_drip                          0                    0  \n",
       "org_id                                              1                  193  \n",
       "invited_by_user_id                               5151                 5240  "
      ]
     },
     "execution_count": 10,
     "metadata": {},
     "output_type": "execute_result"
    }
   ],
   "source": [
    "# make a copy of the original dataset\n",
    "df = users.copy()\n",
    "\n",
    "# convert the object_id to show the user is adopted user or not, 1 for adopted user, 0 for non-adopted user\n",
    "df.object_id = df.object_id.apply(lambda x: x in adopted_usr).astype('int64')\n",
    "\n",
    "# rename the column\n",
    "df = df.rename(columns = {'object_id':'adopted_user'})\n",
    "df.head().T"
   ]
  },
  {
   "cell_type": "markdown",
   "metadata": {},
   "source": [
    "Create a new feature that is equal to the time difference between the creation_time and the last_session_creation_time. The assumption is that the possibility of being an adopted user for a user who still login to the product long after signing up maybe higher"
   ]
  },
  {
   "cell_type": "code",
   "execution_count": 11,
   "metadata": {},
   "outputs": [],
   "source": [
    "# convert into the datetime format\n",
    "df.creation_time = pd.to_datetime(df.creation_time)\n",
    "df.last_session_creation_time = pd.to_datetime(df.last_session_creation_time, unit = 's')\n",
    "\n",
    "# get the difference between last_session_creation_time and the creation_time in the unit of day\n",
    "df['account_last'] = (df.last_session_creation_time - df.creation_time).dt.days\n",
    "\n",
    "# fill the missing value to be 0, assuming they never login again after signing up the account\n",
    "df['account_last'] = df.account_last.fillna(0)"
   ]
  },
  {
   "cell_type": "markdown",
   "metadata": {},
   "source": [
    "Remove features that are not useful and convert the invited_by_user to if they are invited by adopted user"
   ]
  },
  {
   "cell_type": "code",
   "execution_count": 12,
   "metadata": {},
   "outputs": [],
   "source": [
    "# drop the not useful features such as the name and email\n",
    "df = df.drop(['creation_time','name','email','last_session_creation_time','org_id'],axis = 1)\n",
    "\n",
    "# convert the invited_by_user_id to if they are invited by adopted user\n",
    "df.invited_by_user_id = df.invited_by_user_id.apply(lambda x: x in adopted_usr).astype('int64')\n",
    "df = df.rename(columns = {'invited_by_user_id':'invited_by_adopted_usr'})"
   ]
  },
  {
   "cell_type": "markdown",
   "metadata": {},
   "source": [
    "### EDA"
   ]
  },
  {
   "cell_type": "code",
   "execution_count": 13,
   "metadata": {},
   "outputs": [
    {
     "data": {
      "image/png": "[encoded data removed]",
      "text/plain": [
       "<Figure size 576x432 with 2 Axes>"
      ]
     },
     "metadata": {},
     "output_type": "display_data"
    }
   ],
   "source": [
    "# Plot the correlation heat map\n",
    "corr = df.corr()\n",
    "plt.figure(figsize=(8,6))\n",
    "_=sns.heatmap(corr, cmap = 'hot', annot = True)"
   ]
  },
  {
   "cell_type": "markdown",
   "metadata": {},
   "source": [
    "\n",
    "As expected the account last feature has high correlation with our target value adopted_user. Not much correlation can be seen between other features and the adopted user."
   ]
  },
  {
   "cell_type": "code",
   "execution_count": 14,
   "metadata": {},
   "outputs": [
    {
     "data": {
      "image/png": "[encoded data removed]",
      "text/plain": [
       "<Figure size 1152x432 with 1 Axes>"
      ]
     },
     "metadata": {},
     "output_type": "display_data"
    }
   ],
   "source": [
    "plt.figure(figsize=(16,6))\n",
    "g = sns.countplot(x='account_last', hue = 'adopted_user', data = df)\n",
    "_ = plt.xticks(rotation=90)\n",
    "_ = plt.yscale('log')\n",
    "for label in g.get_xticklabels():\n",
    "    if np.int(float(label.get_text())) % 50 == 0:  \n",
    "        label.set_visible(True)\n",
    "    else:\n",
    "        label.set_visible(False)"
   ]
  },
  {
   "cell_type": "markdown",
   "metadata": {},
   "source": [
    "We can see that if a user still login the product after 150days after signup, there is more chance for that user to be an adopted user\n",
    "\n",
    "Next let's take a look at the categorical feature - creation_source"
   ]
  },
  {
   "cell_type": "code",
   "execution_count": 15,
   "metadata": {},
   "outputs": [
    {
     "data": {
      "image/png": "[encoded data removed]",
      "text/plain": [
       "<Figure size 432x288 with 1 Axes>"
      ]
     },
     "metadata": {},
     "output_type": "display_data"
    }
   ],
   "source": [
    "_ = sns.countplot(x='creation_source', hue = 'adopted_user', data = df)\n",
    "_ = plt.xticks(rotation=90)"
   ]
  },
  {
   "cell_type": "code",
   "execution_count": 16,
   "metadata": {},
   "outputs": [
    {
     "data": {
      "text/plain": [
       "creation_source\n",
       "GUEST_INVITE          0.170596\n",
       "ORG_INVITE            0.134932\n",
       "PERSONAL_PROJECTS     0.081478\n",
       "SIGNUP                0.144705\n",
       "SIGNUP_GOOGLE_AUTH    0.172563\n",
       "Name: adopted_user, dtype: float64"
      ]
     },
     "execution_count": 16,
     "metadata": {},
     "output_type": "execute_result"
    }
   ],
   "source": [
    "# get percentage of adopted user for each creation source\n",
    "df.groupby('creation_source')['adopted_user'].apply(lambda x: sum(x)/len(x))"
   ]
  },
  {
   "cell_type": "markdown",
   "metadata": {},
   "source": [
    "Besides seeing that user who signed up for personal projects has lower adopted rate, there is not much difference between each group"
   ]
  },
  {
   "cell_type": "markdown",
   "metadata": {},
   "source": [
    "### Modeling"
   ]
  },
  {
   "cell_type": "code",
   "execution_count": 17,
   "metadata": {},
   "outputs": [],
   "source": [
    "from sklearn.model_selection import train_test_split, RandomizedSearchCV, StratifiedKFold\n",
    "from sklearn.linear_model import LogisticRegression\n",
    "from sklearn.metrics import roc_curve, roc_auc_score, classification_report, confusion_matrix, accuracy_score, precision_score, recall_score, plot_confusion_matrix"
   ]
  },
  {
   "cell_type": "code",
   "execution_count": 18,
   "metadata": {},
   "outputs": [],
   "source": [
    "df_clean = df.copy()\n",
    "df_clean = pd.get_dummies(df_clean, drop_first = True)\n",
    "kfold = StratifiedKFold(n_splits=5, shuffle = True, random_state = 42)"
   ]
  },
  {
   "cell_type": "code",
   "execution_count": 19,
   "metadata": {},
   "outputs": [],
   "source": [
    "# prepare test and train set\n",
    "X = df_clean.drop(['adopted_user'],axis=1).values\n",
    "y = df_clean.adopted_user.values\n",
    "X_train, X_test, y_train, y_test = train_test_split(X, y, test_size = 0.2, random_state = 42, shuffle = True, stratify = y)"
   ]
  },
  {
   "cell_type": "markdown",
   "metadata": {},
   "source": [
    "Let's use Logistic Regression to quickly model the data"
   ]
  },
  {
   "cell_type": "code",
   "execution_count": 20,
   "metadata": {},
   "outputs": [
    {
     "data": {
      "text/plain": [
       "RandomizedSearchCV(cv=StratifiedKFold(n_splits=5, random_state=42, shuffle=True),\n",
       "                   error_score=nan,\n",
       "                   estimator=LogisticRegression(C=1.0, class_weight='balanced',\n",
       "                                                dual=False, fit_intercept=True,\n",
       "                                                intercept_scaling=1,\n",
       "                                                l1_ratio=None, max_iter=100,\n",
       "                                                multi_class='auto', n_jobs=None,\n",
       "                                                penalty='l2', random_state=0,\n",
       "                                                solver='liblinear', tol=0.0001,\n",
       "                                                verbose=0, warm_start=False),\n",
       "                   iid='deprecated', n_iter=6, n_jobs=None,\n",
       "                   param_distributions={'C': [0.1, 1, 10, 100],\n",
       "                                        'penalty': ['l1', 'l2']},\n",
       "                   pre_dispatch='2*n_jobs', random_state=None, refit=True,\n",
       "                   return_train_score=False, scoring='precision', verbose=0)"
      ]
     },
     "execution_count": 20,
     "metadata": {},
     "output_type": "execute_result"
    }
   ],
   "source": [
    "# Initialize model, since the data is imbalanced, we set the class weight paramber to be balanced\n",
    "lr = LogisticRegression(solver='liblinear', random_state = 0, class_weight = 'balanced')\n",
    "\n",
    "# setup hyperparameters for model tuning\n",
    "param_grid_lr = {'penalty':['l1','l2'], 'C':[0.1,1,10,100]}\n",
    "\n",
    "# Train Logistic Regression\n",
    "cv = RandomizedSearchCV(lr, param_distributions = param_grid_lr, n_iter = 6, cv = kfold, scoring = 'precision')\n",
    "cv.fit(X_train, y_train)"
   ]
  },
  {
   "cell_type": "code",
   "execution_count": 21,
   "metadata": {},
   "outputs": [],
   "source": [
    "# Make prediction\n",
    "y_pred = cv.predict(X_test)\n",
    "y_pred_prob = cv.predict_proba(X_test)[:,1]"
   ]
  },
  {
   "cell_type": "code",
   "execution_count": 22,
   "metadata": {},
   "outputs": [
    {
     "name": "stdout",
     "output_type": "stream",
     "text": [
      "Accuracy: 0.9620833333333333\n",
      "Precision: 0.8174603174603174\n",
      "Recall: 0.9335347432024169\n",
      "AUC: 0.9931297721070208\n"
     ]
    }
   ],
   "source": [
    "print('Accuracy: {}'.format(accuracy_score(y_test, y_pred)))\n",
    "print('Precision: {}'.format(precision_score(y_test, y_pred)))\n",
    "print('Recall: {}'.format(recall_score(y_test,y_pred)))\n",
    "print('AUC: {}'.format(roc_auc_score(y_test, y_pred_prob)))"
   ]
  },
  {
   "cell_type": "code",
   "execution_count": 23,
   "metadata": {},
   "outputs": [
    {
     "data": {
      "image/png": "[encoded data removed]",
      "text/plain": [
       "<Figure size 432x288 with 2 Axes>"
      ]
     },
     "metadata": {},
     "output_type": "display_data"
    }
   ],
   "source": [
    "# Plot confusion matrix\n",
    "_= plot_confusion_matrix(cv, X_test, y_test,\n",
    "                      display_labels = ['not adopted','adopted'],\n",
    "                      cmap=plt.cm.Blues)"
   ]
  },
  {
   "cell_type": "code",
   "execution_count": 24,
   "metadata": {},
   "outputs": [
    {
     "data": {
      "image/png": "[encoded data removed]",
      "text/plain": [
       "<Figure size 432x288 with 1 Axes>"
      ]
     },
     "metadata": {},
     "output_type": "display_data"
    }
   ],
   "source": [
    "# Plot ROC curve\n",
    "fpr, tpr, thresholds  = roc_curve(y_test, y_pred_prob)\n",
    "plt.plot([0,1], [0,1], 'k--')\n",
    "plt.plot(fpr, tpr, label='Logistic Regression')\n",
    "plt.xlabel('False Positive Rate')\n",
    "plt.ylabel('True Positive Rate')\n",
    "plt.title('{} ROC Curve'.format('Logistic Regression'))\n",
    "plt.show()"
   ]
  },
  {
   "cell_type": "code",
   "execution_count": null,
   "metadata": {},
   "outputs": [],
   "source": []
  }
 ],
 "metadata": {
  "kernelspec": {
   "display_name": "Python 3",
   "language": "python",
   "name": "python3"
  },
  "language_info": {
   "codemirror_mode": {
    "name": "ipython",
    "version": 3
   },
   "file_extension": ".py",
   "mimetype": "text/x-python",
   "name": "python",
   "nbconvert_exporter": "python",
   "pygments_lexer": "ipython3",
   "version": "3.7.6"
  }
 },
 "nbformat": 4,
 "nbformat_minor": 4
}
